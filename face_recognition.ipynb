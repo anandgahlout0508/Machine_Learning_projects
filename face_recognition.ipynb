{
 "cells": [
  {
   "cell_type": "code",
   "execution_count": 1,
   "metadata": {},
   "outputs": [],
   "source": [
    "import cv2\n",
    "import matplotlib.pyplot as plt\n",
    "from time import sleep\n",
    "\n",
    "\n",
    "fd=cv2.CascadeClassifier(\n",
    "    cv2.data.haarcascades +\n",
    "    'haarcascade_frontalface_default.xml'\n",
    ")\n",
    "vid=cv2.VideoCapture(0)\n",
    "while True:\n",
    "    flag, img=vid.read()\n",
    "    if flag:\n",
    "        img_gray = cv2.cvtColor(img, cv2.COLOR_BGR2GRAY)\n",
    "        \n",
    "        x1,y1,w,h=(200,200,200,200)\n",
    "\n",
    "        faces= fd.detectMultiScale(img_gray,1.1,5)\n",
    "\n",
    "        for x1,y1,w,h in faces:\n",
    "            img_cropped=img[y1:y1+h,x1:x1+w,:]\n",
    "\n",
    "            cv2.rectangle(\n",
    "                img,\n",
    "                pt1=(x1,y1),\n",
    "                pt2=(x1+w,y1+h),\n",
    "                color=(0,255,0),\n",
    "                thickness=5\n",
    "            )\n",
    "\n",
    "\n",
    "\n",
    "        cv2.imshow('Preview',img)\n",
    "        key=cv2.waitKey(1)\n",
    "        if key==ord('x'):\n",
    "            break\n",
    "    else:\n",
    "        break\n",
    "    sleep(0.1)\n",
    "vid.release()\n",
    "cv2.destroyAllWindows()"
   ]
  },
  {
   "cell_type": "code",
   "execution_count": 1,
   "metadata": {},
   "outputs": [],
   "source": []
  },
  {
   "cell_type": "code",
   "execution_count": null,
   "metadata": {},
   "outputs": [],
   "source": []
  }
 ],
 "metadata": {
  "kernelspec": {
   "display_name": "base",
   "language": "python",
   "name": "python3"
  },
  "language_info": {
   "codemirror_mode": {
    "name": "ipython",
    "version": 3
   },
   "file_extension": ".py",
   "mimetype": "text/x-python",
   "name": "python",
   "nbconvert_exporter": "python",
   "pygments_lexer": "ipython3",
   "version": "3.8.8"
  },
  "orig_nbformat": 4
 },
 "nbformat": 4,
 "nbformat_minor": 2
}
